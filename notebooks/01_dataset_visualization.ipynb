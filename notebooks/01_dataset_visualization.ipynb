{
 "cells": [
  {
   "cell_type": "markdown",
   "id": "c1e3b092",
   "metadata": {},
   "source": [
    "# Workshop: Train a Medical AI Model in One Day\n",
    "## Notebook 1: Dataset Setup & Visualization\n",
    "\n",
    "Load local dataset in Fiftyone"
   ]
  },
  {
   "cell_type": "code",
   "execution_count": null,
   "id": "7762d1a9",
   "metadata": {},
   "outputs": [],
   "source": [
    "%pip install --upgrade pip\n",
    "%pip install fiftyone umap-learn torch torchvision"
   ]
  },
  {
   "cell_type": "code",
   "execution_count": null,
   "id": "2612450b",
   "metadata": {},
   "outputs": [],
   "source": [
    "import fiftyone as fo"
   ]
  },
  {
   "cell_type": "code",
   "execution_count": null,
   "id": "b53e1249",
   "metadata": {},
   "outputs": [],
   "source": [
    "# 🔧 Configuration\n",
    "datasetUUID = \"068818885c547b1e80002649e95254ce\"\n",
    "fiftyoneExportPath = \"/Users/paularamos/Documents/GitHub/eyepop_ai/Voxel51-Medical-Collab/notebooks/.cache/voxel51/068818885c547b1e80002649e95254ce/fiftyone_dataset\""
   ]
  },
  {
   "cell_type": "code",
   "execution_count": null,
   "id": "287ffd98",
   "metadata": {},
   "outputs": [],
   "source": [
    "\n",
    "name = f\"eyepop_dataset_{datasetUUID}\"\n",
    "if name in fo.list_datasets():\n",
    "    print(f\"Dataset {name} already exists. Deleting it...\")\n",
    "    fo.delete_dataset(name)\n",
    "\n",
    "dataset = fo.Dataset.from_dir(\n",
    "    dataset_dir=fiftyoneExportPath,\n",
    "    dataset_type=fo.types.FiftyOneDataset,\n",
    "    name=name\n",
    ") \n",
    "\n",
    "async def run():\n",
    "      \n",
    "    filtered_view = dataset.select_fields(\"ground_truth\")\n",
    "    \n",
    "    print(\"Loading dataset into FiftyOne...\")    \n",
    "    session = fo.launch_app(filtered_view, browser=True, auto=False)\n",
    "    dataset.persistent=True    \n",
    "    \n",
    "await run()\n"
   ]
  },
  {
   "cell_type": "code",
   "execution_count": null,
   "id": "e7aea267",
   "metadata": {},
   "outputs": [],
   "source": [
    "import fiftyone.brain as fob\n",
    "import fiftyone.zoo as foz\n",
    "\n",
    "# Compute embeddings for all samples\n",
    "fob.compute_visualization(\n",
    "    dataset,\n",
    "    embeddings=\"default_embedding\",\n",
    "    brain_key=\"arcade_emb\"\n",
    ")"
   ]
  },
  {
   "cell_type": "code",
   "execution_count": null,
   "id": "1440846b",
   "metadata": {},
   "outputs": [],
   "source": [
    "# Specify the field containing the patches (e.g., detections)\n",
    "patches_field = \"ground_truth\"\n",
    "\n",
    "# Option 1: Use a pre-trained model from the FiftyOne Model Zoo\n",
    "model = foz.load_zoo_model(\"mobilenet-v2-imagenet-torch\")\n",
    "\n",
    "# Compute embeddings for the patches using the specified model\n",
    "dataset.compute_patch_embeddings(\n",
    "    patches_field=patches_field, \n",
    "    model=model, \n",
    "    embeddings_field=\"patches_embedding\",\n",
    "    num_workers=0\n",
    "    )\n"
   ]
  },
  {
   "cell_type": "code",
   "execution_count": null,
   "id": "d8489d43",
   "metadata": {},
   "outputs": [],
   "source": [
    "fob.compute_visualization(\n",
    "    dataset,\n",
    "    patches_field=\"ground_truth\",             # 👈 your field\n",
    "    embeddings=\"patches_embedding\",            # 👈 patch embedding field\n",
    "    brain_key=\"segmentations_patch_embeddings\",# 👈 name for this embedding run\n",
    "    num_workers=0\n",
    ")"
   ]
  },
  {
   "cell_type": "code",
   "execution_count": null,
   "id": "e94ca9aa",
   "metadata": {},
   "outputs": [],
   "source": [
    "dataset.reload()\n",
    "print(dataset)"
   ]
  },
  {
   "cell_type": "code",
   "execution_count": null,
   "id": "a7dbb617",
   "metadata": {},
   "outputs": [],
   "source": [
    "import webbrowser\n",
    "\n",
    "webbrowser.open(\"http://localhost:5151/\")"
   ]
  }
 ],
 "metadata": {
  "kernelspec": {
   "display_name": "pyenv",
   "language": "python",
   "name": "python3"
  },
  "language_info": {
   "codemirror_mode": {
    "name": "ipython",
    "version": 3
   },
   "file_extension": ".py",
   "mimetype": "text/x-python",
   "name": "python",
   "nbconvert_exporter": "python",
   "pygments_lexer": "ipython3",
   "version": "3.10.17"
  }
 },
 "nbformat": 4,
 "nbformat_minor": 5
}
