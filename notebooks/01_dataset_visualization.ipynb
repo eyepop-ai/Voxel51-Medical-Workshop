{
 "cells": [
  {
   "cell_type": "markdown",
   "id": "c1e3b092",
   "metadata": {},
   "source": [
    "# Workshop: Train a Medical AI Model in One Day\n",
    "## Notebook 1: Dataset Setup & Visualization\n",
    "\n",
    "Load local dataset in Fiftyone"
   ]
  },
  {
   "cell_type": "code",
   "execution_count": null,
   "id": "7762d1a9",
   "metadata": {},
   "outputs": [],
   "source": [
    "%pip install fiftyone"
   ]
  },
  {
   "cell_type": "code",
   "execution_count": null,
   "id": "2612450b",
   "metadata": {},
   "outputs": [],
   "source": [
    "import fiftyone as fo"
   ]
  },
  {
   "cell_type": "code",
   "execution_count": null,
   "id": "b53e1249",
   "metadata": {},
   "outputs": [],
   "source": [
    "# 🔧 Configuration\n",
    "datasetUUID = \"068818885c547b1e80002649e95254ce\"\n",
    "fiftyoneExportPath = \"./.cache/voxel51/034cb8e37f5444e98a78f1be65fd0bff/068818885c547b1e80002649e95254ce/fiftyone_dataset\""
   ]
  },
  {
   "cell_type": "code",
   "execution_count": null,
   "id": "287ffd98",
   "metadata": {},
   "outputs": [],
   "source": [
    "\n",
    "async def run():\n",
    "    name = f\"eyepop_dataset_{datasetUUID}\"\n",
    "    if name in fo.list_datasets():\n",
    "        print(f\"Dataset {name} already exists. Deleting it...\")\n",
    "        fo.delete_dataset(name)\n",
    "\n",
    "    dataset = fo.Dataset.from_dir(\n",
    "        dataset_dir=fiftyoneExportPath,\n",
    "        dataset_type=fo.types.FiftyOneDataset,\n",
    "        name=name\n",
    "    )   \n",
    "    filtered_view = dataset.select_fields(\"ground_truth\")\n",
    "    \n",
    "    print(\"Loading dataset into FiftyOne...\")    \n",
    "    session = fo.launch_app(filtered_view, browser=True)    \n",
    "    \n",
    "await run()"
   ]
  },
  {
   "cell_type": "code",
   "execution_count": null,
   "id": "a7dbb617",
   "metadata": {},
   "outputs": [],
   "source": [
    "import webbrowser\n",
    "\n",
    "webbrowser.open(\"http://localhost:5151/\")"
   ]
  }
 ],
 "metadata": {
  "kernelspec": {
   "display_name": "venv",
   "language": "python",
   "name": "python3"
  },
  "language_info": {
   "codemirror_mode": {
    "name": "ipython",
    "version": 3
   },
   "file_extension": ".py",
   "mimetype": "text/x-python",
   "name": "python",
   "nbconvert_exporter": "python",
   "pygments_lexer": "ipython3",
   "version": "3.11.9"
  }
 },
 "nbformat": 4,
 "nbformat_minor": 5
}
