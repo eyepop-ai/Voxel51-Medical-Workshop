{
 "cells": [
  {
   "cell_type": "markdown",
   "id": "c1e3b092",
   "metadata": {},
   "source": [
    "# Medical Imaging Workshop - Notebook 1: Dataset Setup & Visualization\n",
    "Load local dataset in Fiftyone"
   ]
  },
  {
   "cell_type": "code",
   "execution_count": null,
   "id": "7762d1a9",
   "metadata": {},
   "outputs": [],
   "source": [
    "%pip install fiftyone eyepop tqdm"
   ]
  },
  {
   "cell_type": "code",
   "execution_count": null,
   "id": "2612450b",
   "metadata": {},
   "outputs": [],
   "source": [
    "import fiftyone as fo\n",
    "import os\n",
    "import json"
   ]
  },
  {
   "cell_type": "code",
   "execution_count": null,
   "id": "b53e1249",
   "metadata": {},
   "outputs": [],
   "source": [
    "accountUUID = \"60107c508dde44b19c3e7d1f30a1e2c0\"\n",
    "datasetUUID = \"0686c4296f957d3980005a829876d16e\"\n",
    "apikey = \"AAE_w6lCcrCa27chNAbZO-WdZ0FBQUFBQmwyUFk5bmtLZnJBQ2RFVWVDbzU1MnkwTUMzYXhQWjA4a0ZEczFKWWdONjdRS0NGWUZ5aF90aXVQZ3FrcWdkZWwwUEx6Q0luM0F3b3ItMjdqRmhUQkxyTWVvSndFLWRCUENjZGNlanZhbGhRTDdtV289\"\n",
    "cache_directory = \"./.cache/voxel51/\" + accountUUID + \"/\" + datasetUUID"
   ]
  },
  {
   "cell_type": "code",
   "execution_count": null,
   "id": "287ffd98",
   "metadata": {},
   "outputs": [],
   "source": [
    "async def run():\n",
    "    print(\"Images directory:\", os.listdir(os.path.join(cache_directory, \"data\"))[:5])\n",
    "    print(\"Annotations file exists:\", os.path.exists(os.path.join(cache_directory, \"annotations\", \"annotations.json\")))\n",
    "    with open(os.path.join(cache_directory, \"annotations\", \"annotations.json\")) as f:\n",
    "        coco = json.load(f)\n",
    "        print(\"Total images in COCO:\", len(coco[\"images\"]))\n",
    "        print(\"Total annotations:\", len(coco[\"annotations\"]))\n",
    "\n",
    "    print(\"Loading dataset into FiftyOne...\")    \n",
    "    dataset = fo.Dataset.from_dir(\n",
    "        dataset_dir=os.path.expanduser(cache_directory),\n",
    "        dataset_type=fo.types.COCODetectionDataset,\n",
    "        labels_path=\"annotations/annotations.json\",\n",
    "    )\n",
    "    session = fo.launch_app(dataset, browser=True)\n",
    "    \n",
    "await run()"
   ]
  },
  {
   "cell_type": "code",
   "execution_count": null,
   "id": "a7dbb617",
   "metadata": {},
   "outputs": [],
   "source": [
    "import webbrowser\n",
    "\n",
    "webbrowser.open(\"http://localhost:5151/\")"
   ]
  }
 ],
 "metadata": {
  "kernelspec": {
   "display_name": "venv",
   "language": "python",
   "name": "python3"
  },
  "language_info": {
   "codemirror_mode": {
    "name": "ipython",
    "version": 3
   },
   "file_extension": ".py",
   "mimetype": "text/x-python",
   "name": "python",
   "nbconvert_exporter": "python",
   "pygments_lexer": "ipython3",
   "version": "3.11.9"
  }
 },
 "nbformat": 4,
 "nbformat_minor": 5
}
