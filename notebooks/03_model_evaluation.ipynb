{
 "cells": [
  {
   "cell_type": "markdown",
   "id": "abda5416",
   "metadata": {},
   "source": [
    "# Medical Imaging Workshop - Notebook 3: ??\n",
    "??\n",
    "\n"
   ]
  }
 ],
 "metadata": {
  "language_info": {
   "name": "python"
  }
 },
 "nbformat": 4,
 "nbformat_minor": 5
}
