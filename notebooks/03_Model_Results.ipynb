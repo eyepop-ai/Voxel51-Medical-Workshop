{
 "cells": [
  {
   "cell_type": "markdown",
   "id": "c1e3b092",
   "metadata": {},
   "source": [
    "# Workshop: Train a Medical AI Model in One Day\n",
    "## Notebook 3: Visualizing 2 Model's results in fiftyone\n",
    "\n",
    "Load local predictions"
   ]
  },
  {
   "cell_type": "code",
   "execution_count": null,
   "id": "7762d1a9",
   "metadata": {},
   "outputs": [],
   "source": [
    "%pip install fiftyone"
   ]
  },
  {
   "cell_type": "code",
   "execution_count": null,
   "id": "2612450b",
   "metadata": {},
   "outputs": [],
   "source": [
    "import fiftyone as fo"
   ]
  },
  {
   "cell_type": "code",
   "execution_count": 2,
   "id": "b53e1249",
   "metadata": {},
   "outputs": [],
   "source": [
    "# 🔧 Configuration\n",
    "datasetUUID = \"068818885c547b1e80002649e95254ce\"\n",
    "fiftyoneExportPath = \"/Users/paularamos/Documents/GitHub/eyepop_ai/Voxel51-Medical-Collab/notebooks/.cache/voxel51/068818885c547b1e80002649e95254ce/fiftyone_dataset\""
   ]
  },
  {
   "cell_type": "code",
   "execution_count": 16,
   "id": "287ffd98",
   "metadata": {},
   "outputs": [
    {
     "name": "stdout",
     "output_type": "stream",
     "text": [
      "Dataset 'eyepop_dataset_068818885c547b1e80002649e95254ce' exists. Loading...\n",
      "Loading dataset into FiftyOne...\n",
      "Session launched. Run `session.show()` to open the App in a cell output.\n"
     ]
    }
   ],
   "source": [
    "name = f\"eyepop_dataset_{datasetUUID}\"\n",
    "# Check if the dataset exists\n",
    "if name in fo.list_datasets():\n",
    "    print(f\"Dataset '{name}' exists. Loading...\")\n",
    "    dataset = fo.load_dataset(name)\n",
    "else:\n",
    "    print(f\"Dataset '{name}' does not exist. Creating a new one...\")\n",
    "    # Clone the dataset with a new name and make it persistent\n",
    "    dataset = fo.Dataset.from_dir(\n",
    "        dataset_dir=fiftyoneExportPath,\n",
    "        dataset_type=fo.types.FiftyOneDataset,\n",
    "        name=name,\n",
    "        persistent=True\n",
    "    )\n",
    "      \n",
    "async def run():\n",
    "    \n",
    "    \n",
    "    print(\"Loading dataset into FiftyOne...\")    \n",
    "    session = fo.launch_app(dataset, browser=True, auto=False)    \n",
    "    \n",
    "await run()"
   ]
  },
  {
   "cell_type": "code",
   "execution_count": 17,
   "id": "6eac6029",
   "metadata": {},
   "outputs": [
    {
     "name": "stdout",
     "output_type": "stream",
     "text": [
      "Labels updated successfully!\n"
     ]
    }
   ],
   "source": [
    "# Iterate through the samples and update labels\n",
    "for sample in dataset:\n",
    "    for detection in sample.ground_truth.detections:\n",
    "        if detection.label.startswith(\"stenosis\"):\n",
    "            detection.label = \"stenosis\"\n",
    "    sample.save()\n",
    "\n",
    "print(\"Labels updated successfully!\")"
   ]
  },
  {
   "cell_type": "code",
   "execution_count": 18,
   "id": "dd49c67c",
   "metadata": {},
   "outputs": [
    {
     "name": "stdout",
     "output_type": "stream",
     "text": [
      "predictions_300 detections:\n",
      "stenosis [0.19298240542411804, 0.39101943373680115, 0.08861394226551056, 0.17720861732959747] 0.8234073519706726\n",
      "stenosis [0.1807192862033844, 0.34652823209762573, 0.1472143679857254, 0.2631445825099945] 0.6109607219696045\n",
      "\n",
      "predictions_3k detections:\n",
      "stenosis [0.187, 0.358, 0.09, 0.245] 0.782\n",
      "stenosis [0.193, 0.411, 0.06, 0.154] 0.741\n"
     ]
    }
   ],
   "source": [
    "# Grab a sample (first, specific index, or with a filter)\n",
    "sample = dataset.first()  # or sample = dataset[42]\n",
    "\n",
    "# Check if predictions_300 exists and print its structure\n",
    "if sample.predictions_300 is not None:\n",
    "    print(\"predictions_300 detections:\")\n",
    "    for det in sample.predictions_300.detections:\n",
    "        print(det.label, det.bounding_box, det.confidence)\n",
    "else:\n",
    "    print(\"predictions_300 is None\")\n",
    "\n",
    "# Do the same for predictions_3k\n",
    "if sample.predictions_3k is not None:\n",
    "    print(\"\\npredictions_3k detections:\")\n",
    "    for det in sample.predictions_3k.detections:\n",
    "        print(det.label, det.bounding_box, det.confidence)\n",
    "else:\n",
    "    print(\"predictions_3k is None\")"
   ]
  },
  {
   "cell_type": "code",
   "execution_count": 19,
   "id": "99d51a7a",
   "metadata": {},
   "outputs": [],
   "source": [
    "# Iterate over samples and fix labels\n",
    "for sample in dataset:\n",
    "    predictions = sample.predictions_300\n",
    "    if predictions is not None and predictions.detections is not None:\n",
    "        for detection in predictions.detections:\n",
    "            if detection.label.startswith(\"stenosis\"):\n",
    "                detection.label = \"stenosis\"\n",
    "        sample.predictions_300 = predictions  # assign back if modified\n",
    "        sample.save()"
   ]
  },
  {
   "cell_type": "code",
   "execution_count": null,
   "id": "23bdabef",
   "metadata": {},
   "outputs": [],
   "source": [
    "# Iterate over samples and fix labels\n",
    "for sample in dataset:\n",
    "    predictions = sample.predictions_3k\n",
    "    if predictions is not None and predictions.detections is not None:\n",
    "        for detection in predictions.detections:\n",
    "            if detection.label.startswith(\"stenosis\"):\n",
    "                detection.label = \"stenosis\"\n",
    "        sample.predictions_3k = predictions  # assign back if modified\n",
    "        sample.save()"
   ]
  },
  {
   "cell_type": "code",
   "execution_count": 20,
   "id": "04c276ff",
   "metadata": {},
   "outputs": [
    {
     "name": "stdout",
     "output_type": "stream",
     "text": [
      "Name:        eyepop_dataset_068818885c547b1e80002649e95254ce\n",
      "Media type:  image\n",
      "Num samples: 121\n",
      "Persistent:  True\n",
      "Tags:        []\n",
      "Sample fields:\n",
      "    id:                      fiftyone.core.fields.ObjectIdField\n",
      "    filepath:                fiftyone.core.fields.StringField\n",
      "    tags:                    fiftyone.core.fields.ListField(fiftyone.core.fields.StringField)\n",
      "    metadata:                fiftyone.core.fields.EmbeddedDocumentField(fiftyone.core.metadata.ImageMetadata)\n",
      "    created_at:              fiftyone.core.fields.DateTimeField\n",
      "    last_modified_at:        fiftyone.core.fields.DateTimeField\n",
      "    partition:               fiftyone.core.fields.StringField\n",
      "    uuid:                    fiftyone.core.fields.StringField\n",
      "    ground_truth:            fiftyone.core.fields.EmbeddedDocumentField(fiftyone.core.labels.Detections)\n",
      "    predictions_300:         fiftyone.core.fields.EmbeddedDocumentField(fiftyone.core.labels.Detections)\n",
      "    predictions_3k:          fiftyone.core.fields.EmbeddedDocumentField(fiftyone.core.labels.Detections)\n",
      "    default_embedding:       fiftyone.core.fields.VectorField\n",
      "    predictions_300_eval_tp: fiftyone.core.fields.IntField\n",
      "    predictions_300_eval_fp: fiftyone.core.fields.IntField\n",
      "    predictions_300_eval_fn: fiftyone.core.fields.IntField\n",
      "    predictions_3k_eval_tp:  fiftyone.core.fields.IntField\n",
      "    predictions_3k_eval_fp:  fiftyone.core.fields.IntField\n",
      "    predictions_3k_eval_fn:  fiftyone.core.fields.IntField\n"
     ]
    }
   ],
   "source": [
    "print(dataset)"
   ]
  },
  {
   "cell_type": "code",
   "execution_count": 21,
   "id": "c528ad4f",
   "metadata": {},
   "outputs": [
    {
     "name": "stdout",
     "output_type": "stream",
     "text": [
      "Evaluating detections...\n",
      " 100% |█████████████████| 121/121 [145.9ms elapsed, 0s remaining, 829.6 samples/s]     \n",
      "Performing IoU sweep...\n",
      " 100% |█████████████████| 121/121 [123.6ms elapsed, 0s remaining, 979.2 samples/s]    \n"
     ]
    }
   ],
   "source": [
    "results = dataset.evaluate_detections(\n",
    "    \"predictions_300\",\n",
    "    gt_field=\"ground_truth\",\n",
    "    eval_key=\"predictions_300_eval\",\n",
    "    compute_mAP=True,  # Avoids needing confidence\n",
    ")\n",
    "#results.print_report()"
   ]
  },
  {
   "cell_type": "code",
   "execution_count": 22,
   "id": "48d74296",
   "metadata": {},
   "outputs": [
    {
     "name": "stdout",
     "output_type": "stream",
     "text": [
      "Evaluating detections...\n",
      " 100% |█████████████████| 121/121 [264.3ms elapsed, 0s remaining, 457.8 samples/s]      \n",
      "Performing IoU sweep...\n",
      " 100% |█████████████████| 121/121 [262.0ms elapsed, 0s remaining, 461.8 samples/s]      \n"
     ]
    }
   ],
   "source": [
    "results2 = dataset.evaluate_detections(\n",
    "    \"predictions_3k\",\n",
    "    gt_field=\"ground_truth\",\n",
    "    eval_key=\"predictions_3k_eval\",\n",
    "    compute_mAP=True,  # Avoids needing confidence\n",
    ")\n",
    "#results.print_report()"
   ]
  },
  {
   "cell_type": "code",
   "execution_count": 23,
   "id": "0181636b",
   "metadata": {},
   "outputs": [
    {
     "name": "stdout",
     "output_type": "stream",
     "text": [
      "              precision    recall  f1-score   support\n",
      "\n",
      "    stenosis       0.33      0.00      0.01       202\n",
      "\n",
      "   micro avg       0.33      0.00      0.01       202\n",
      "   macro avg       0.33      0.00      0.01       202\n",
      "weighted avg       0.33      0.00      0.01       202\n",
      "\n",
      "              precision    recall  f1-score   support\n",
      "\n",
      "    stenosis       0.50      0.00      0.01       202\n",
      "\n",
      "   micro avg       0.50      0.00      0.01       202\n",
      "   macro avg       0.50      0.00      0.01       202\n",
      "weighted avg       0.50      0.00      0.01       202\n",
      "\n"
     ]
    }
   ],
   "source": [
    "# Get the 10 most common classes in the dataset\n",
    "counts = dataset.count_values(\"ground_truth.detections.label\")\n",
    "classes_top10 = sorted(counts, key=counts.get, reverse=True)\n",
    "\n",
    "# Print a classification report for the top-10 classes\n",
    "results.print_report(classes=classes_top10)\n",
    "results2.print_report(classes=classes_top10)"
   ]
  },
  {
   "cell_type": "code",
   "execution_count": 24,
   "id": "5593ebdb",
   "metadata": {},
   "outputs": [
    {
     "name": "stdout",
     "output_type": "stream",
     "text": [
      "0.0019801980198019802\n",
      "0.0034653465346534654\n"
     ]
    }
   ],
   "source": [
    "print(results.mAP())\n",
    "print(results2.mAP())"
   ]
  },
  {
   "cell_type": "code",
   "execution_count": 25,
   "id": "a7dbb617",
   "metadata": {},
   "outputs": [
    {
     "data": {
      "text/plain": [
       "True"
      ]
     },
     "execution_count": 25,
     "metadata": {},
     "output_type": "execute_result"
    }
   ],
   "source": [
    "import webbrowser\n",
    "\n",
    "webbrowser.open(\"http://localhost:5151/\")"
   ]
  }
 ],
 "metadata": {
  "kernelspec": {
   "display_name": "pyenv",
   "language": "python",
   "name": "python3"
  },
  "language_info": {
   "codemirror_mode": {
    "name": "ipython",
    "version": 3
   },
   "file_extension": ".py",
   "mimetype": "text/x-python",
   "name": "python",
   "nbconvert_exporter": "python",
   "pygments_lexer": "ipython3",
   "version": "3.10.17"
  }
 },
 "nbformat": 4,
 "nbformat_minor": 5
}
