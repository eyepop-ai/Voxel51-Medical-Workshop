{
 "cells": [
  {
   "cell_type": "markdown",
   "id": "c1e3b092",
   "metadata": {},
   "source": [
    "# Workshop: Train a Medical AI Model in One Day\n",
    "## Notebook 3: Visualizing 2 Model's results in fiftyone\n",
    "\n",
    "Load local predictions"
   ]
  },
  {
   "cell_type": "code",
   "execution_count": null,
   "id": "7762d1a9",
   "metadata": {},
   "outputs": [],
   "source": [
    "%pip install fiftyone"
   ]
  },
  {
   "cell_type": "code",
   "execution_count": null,
   "id": "2612450b",
   "metadata": {},
   "outputs": [],
   "source": [
    "import fiftyone as fo"
   ]
  },
  {
   "cell_type": "code",
   "execution_count": null,
   "id": "b53e1249",
   "metadata": {},
   "outputs": [],
   "source": [
    "# 🔧 Configuration\n",
    "datasetUUID = \"068818885c547b1e80002649e95254ce\"\n",
    "fiftyoneExportPath = \"./.cache/voxel51/034cb8e37f5444e98a78f1be65fd0bff/068818885c547b1e80002649e95254ce/fiftyone_dataset\""
   ]
  },
  {
   "cell_type": "code",
   "execution_count": null,
   "id": "287ffd98",
   "metadata": {},
   "outputs": [],
   "source": [
    "name = f\"eyepop_dataset_{datasetUUID}\"\n",
    "# Check if the dataset exists\n",
    "if name in fo.list_datasets():\n",
    "    print(f\"Dataset '{name}' exists. Loading...\")\n",
    "    dataset = fo.load_dataset(name)\n",
    "else:\n",
    "    print(f\"Dataset '{name}' does not exist. Creating a new one...\")\n",
    "    # Clone the dataset with a new name and make it persistent\n",
    "    dataset = fo.Dataset.from_dir(\n",
    "        dataset_dir=fiftyoneExportPath,\n",
    "        dataset_type=fo.types.FiftyOneDataset,\n",
    "        name=name,\n",
    "        persistent=True\n",
    "    )\n",
    "      \n",
    "async def run():\n",
    "    \n",
    "    \n",
    "    print(\"Loading dataset into FiftyOne...\")    \n",
    "    session = fo.launch_app(dataset, browser=True, auto=False)    \n",
    "    \n",
    "await run()"
   ]
  },
  {
   "cell_type": "code",
   "execution_count": null,
   "id": "6eac6029",
   "metadata": {},
   "outputs": [],
   "source": [
    "# Iterate through the samples and update labels\n",
    "for sample in dataset:\n",
    "    for detection in sample.ground_truth.detections:\n",
    "        if detection.label.startswith(\"stenosis\"):\n",
    "            detection.label = \"stenosis\"\n",
    "    sample.save()\n",
    "\n",
    "print(\"Labels updated successfully!\")"
   ]
  },
  {
   "cell_type": "code",
   "execution_count": null,
   "id": "dd49c67c",
   "metadata": {},
   "outputs": [],
   "source": [
    "# Grab a sample (first, specific index, or with a filter)\n",
    "sample = dataset.first()  # or sample = dataset[42]\n",
    "\n",
    "# Check if predictions_300 exists and print its structure\n",
    "if sample.predictions_300 is not None:\n",
    "    print(\"predictions_300 detections:\")\n",
    "    for det in sample.predictions_300.detections:\n",
    "        print(det.label, det.bounding_box, det.confidence)\n",
    "else:\n",
    "    print(\"predictions_300 is None\")\n",
    "\n",
    "# Do the same for predictions_3k\n",
    "if sample.predictions_3k is not None:\n",
    "    print(\"\\npredictions_3k detections:\")\n",
    "    for det in sample.predictions_3k.detections:\n",
    "        print(det.label, det.bounding_box, det.confidence)\n",
    "else:\n",
    "    print(\"predictions_3k is None\")"
   ]
  },
  {
   "cell_type": "code",
   "execution_count": null,
   "id": "99d51a7a",
   "metadata": {},
   "outputs": [],
   "source": [
    "# Iterate over samples and fix labels\n",
    "for sample in dataset:\n",
    "    predictions = sample.predictions_300\n",
    "    if predictions is not None and predictions.detections is not None:\n",
    "        for detection in predictions.detections:\n",
    "            if detection.label.startswith(\"stenosis\"):\n",
    "                detection.label = \"stenosis\"\n",
    "        sample.predictions_300 = predictions  # assign back if modified\n",
    "        sample.save()"
   ]
  },
  {
   "cell_type": "code",
   "execution_count": null,
   "id": "23bdabef",
   "metadata": {},
   "outputs": [],
   "source": [
    "# Iterate over samples and fix labels\n",
    "for sample in dataset:\n",
    "    predictions = sample.predictions_3k\n",
    "    if predictions is not None and predictions.detections is not None:\n",
    "        for detection in predictions.detections:\n",
    "            if detection.label.startswith(\"stenosis\"):\n",
    "                detection.label = \"stenosis\"\n",
    "        sample.predictions_3k = predictions  # assign back if modified\n",
    "        sample.save()"
   ]
  },
  {
   "cell_type": "code",
   "execution_count": null,
   "id": "04c276ff",
   "metadata": {},
   "outputs": [],
   "source": [
    "print(dataset)"
   ]
  },
  {
   "cell_type": "code",
   "execution_count": null,
   "id": "c528ad4f",
   "metadata": {},
   "outputs": [],
   "source": [
    "results = dataset.evaluate_detections(\n",
    "    \"predictions_300\",\n",
    "    gt_field=\"ground_truth\",\n",
    "    eval_key=\"predictions_300_eval\",\n",
    "    compute_mAP=True,  # Avoids needing confidence\n",
    ")\n",
    "#results.print_report()"
   ]
  },
  {
   "cell_type": "code",
   "execution_count": null,
   "id": "48d74296",
   "metadata": {},
   "outputs": [],
   "source": [
    "results2 = dataset.evaluate_detections(\n",
    "    \"predictions_3k\",\n",
    "    gt_field=\"ground_truth\",\n",
    "    eval_key=\"predictions_3k_eval\",\n",
    "    compute_mAP=True,  # Avoids needing confidence\n",
    ")\n",
    "#results.print_report()"
   ]
  },
  {
   "cell_type": "code",
   "execution_count": null,
   "id": "0181636b",
   "metadata": {},
   "outputs": [],
   "source": [
    "# Get the 10 most common classes in the dataset\n",
    "counts = dataset.count_values(\"ground_truth.detections.label\")\n",
    "classes_top10 = sorted(counts, key=counts.get, reverse=True)\n",
    "\n",
    "# Print a classification report for the top-10 classes\n",
    "results.print_report(classes=classes_top10)\n",
    "results2.print_report(classes=classes_top10)"
   ]
  },
  {
   "cell_type": "code",
   "execution_count": null,
   "id": "5593ebdb",
   "metadata": {},
   "outputs": [],
   "source": [
    "print(results.mAP())\n",
    "print(results2.mAP())"
   ]
  },
  {
   "cell_type": "code",
   "execution_count": null,
   "id": "a7dbb617",
   "metadata": {},
   "outputs": [],
   "source": [
    "import webbrowser\n",
    "\n",
    "webbrowser.open(\"http://localhost:5151/\")"
   ]
  }
 ],
 "metadata": {
  "kernelspec": {
   "display_name": "pyenv",
   "language": "python",
   "name": "python3"
  },
  "language_info": {
   "codemirror_mode": {
    "name": "ipython",
    "version": 3
   },
   "file_extension": ".py",
   "mimetype": "text/x-python",
   "name": "python",
   "nbconvert_exporter": "python",
   "pygments_lexer": "ipython3",
   "version": "3.10.17"
  }
 },
 "nbformat": 4,
 "nbformat_minor": 5
}
